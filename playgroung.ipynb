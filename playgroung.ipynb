{
 "cells": [
  {
   "cell_type": "code",
   "execution_count": 1,
   "metadata": {},
   "outputs": [],
   "source": [
    "from integsol.mesh.mesh import Mesh\n",
    "from integsol.structures.vectors import VectorField\n",
    "from integsol.structures.operators import (\n",
    "    IntegralConvolutionOperator as ICO,\n",
    "    CrossProductOperator as CPO,\n",
    ")\n",
    "from integsol.validators.compute_validators import *\n",
    "from integsol.structures.kernels import demagnetization_tensor_kernel as dtk\n",
    "import numpy as np\n",
    "from torch.linalg import eig\n",
    "from torch import (\n",
    "    Tensor,\n",
    "    dot,\n",
    "    matmul,\n",
    "    mv,\n",
    ")\n"
   ]
  },
  {
   "cell_type": "code",
   "execution_count": 2,
   "metadata": {},
   "outputs": [],
   "source": [
    "M_s = 1.45 * 1e4\n",
    "gamms = 2.25 * 1e4"
   ]
  },
  {
   "cell_type": "code",
   "execution_count": null,
   "metadata": {},
   "outputs": [],
   "source": [
    "mesh = Mesh.read(path=\"/home/aluatar/integsol/test_inputs/mesh_75nm.mphtxt\")\n",
    "#mesh_2 = Mesh.read(path=\"/home/aluatar/integsol/test_inputs/mesh_coerser.mphtxt\")"
   ]
  },
  {
   "cell_type": "code",
   "execution_count": null,
   "metadata": {},
   "outputs": [],
   "source": [
    "centers = mesh.elements_centers['tet'].T\n",
    "nodes = mesh.coordinates.T\n",
    "elements = mesh.elements_coordinates\n",
    "len(centers.T)"
   ]
  },
  {
   "cell_type": "code",
   "execution_count": null,
   "metadata": {},
   "outputs": [],
   "source": [
    "%matplotlib widget\n",
    "import matplotlib.pyplot as plt \n",
    "import numpy as np\n",
    "\n",
    "fig = plt.figure()\n",
    "\n",
    "ax = fig.add_subplot(projection='3d')\n",
    "\n",
    "ax.scatter(xs=np.float64(nodes[0]), ys=np.float64(nodes[1]), zs=np.float64(nodes[2]), s=1)\n",
    "#ax.scatter(xs=mesh.coordinates[Hd_nodes_nans][0], ys=mesh.coordinates[Hd_nodes_nans][1], zs=mesh.coordinates[Hd_nodes_nans][2], color='red')"
   ]
  },
  {
   "cell_type": "code",
   "execution_count": 176,
   "metadata": {},
   "outputs": [],
   "source": [
    "coord_to_write = []\n",
    "X, Y, Z =[], [], []\n",
    "for coordinate in centers.T:\n",
    "    X.append(coordinate[0])\n",
    "    Y.append(coordinate[1])\n",
    "    Z.append(coordinate[2])\n",
    "\n",
    "coord_to_write = zip(X,Y,Z)\n",
    "\n",
    "from datetime import datetime\n",
    "import csv\n",
    "\n",
    "with open(F\"/home/aluatar/integsol/outputs/interpolation_coordinates/coordinates_{datetime.now()}.txt\", 'w') as _csv:\n",
    "    writer = csv.writer(_csv, delimiter='\\t')\n",
    "    writer.writerows(coord_to_write)"
   ]
  },
  {
   "cell_type": "code",
   "execution_count": 5,
   "metadata": {},
   "outputs": [],
   "source": [
    "M0 = VectorField.read_to_mesh(\n",
    "    path=\"/home/aluatar/integsol/test_inputs/magnetization_75nm.txt\",\n",
    "    mesh=mesh,\n",
    "    dim=3)"
   ]
  },
  {
   "cell_type": "code",
   "execution_count": null,
   "metadata": {},
   "outputs": [],
   "source": [
    "M0_cpo = CPO(\n",
    "    mesh=mesh,\n",
    "    left_vector= M0\n",
    ")\n",
    "\n",
    "M0_times_ = M0_cpo.to_mesh_matrix()\n",
    "M0_times_\n",
    "del M0"
   ]
  },
  {
   "cell_type": "code",
   "execution_count": null,
   "metadata": {},
   "outputs": [],
   "source": [
    "ico = ICO(kernel=dtk)\n",
    "int_G_ = ico.to_mesh_matrix(mesh=mesh)"
   ]
  },
  {
   "cell_type": "code",
   "execution_count": null,
   "metadata": {},
   "outputs": [],
   "source": [
    "H_eff = VectorField.read_to_mesh(\n",
    "    path=\"/home/aluatar/integsol/test_inputs/H_eff_75nm.txt\",\n",
    "    mesh=mesh,\n",
    "    dim=3)\n",
    "\n",
    "\"\"\"_H_eff = H_eff.vectorize()\n",
    "vals_H_eff = H_eff.values.T\"\"\""
   ]
  },
  {
   "cell_type": "code",
   "execution_count": 10,
   "metadata": {},
   "outputs": [],
   "source": [
    "H_0 = VectorField(\n",
    "    mesh=mesh,\n",
    "    coordinates=centers.T,\n",
    "    values= 5e6 * np.array([[0,0,1] for _ in centers.T])\n",
    ")\n",
    "H_0_coordinates = H_0.coorrdinates.T\n",
    "H_0_values = H_0.values.T"
   ]
  },
  {
   "cell_type": "code",
   "execution_count": null,
   "metadata": {},
   "outputs": [],
   "source": [
    "%matplotlib inline\n",
    "%matplotlib widget \n",
    "\n",
    "from mpl_toolkits.mplot3d import Axes3D\n",
    "import matplotlib.pyplot as plt\n",
    "import numpy as np\n",
    "\n",
    "fig = plt.figure(figsize=(5,5), dpi=100)\n",
    "ax = fig.add_subplot(projection=\"3d\") \n",
    "\n",
    "ax.quiver(\n",
    "    H_0_coordinates[0],\n",
    "    H_0_coordinates[1],\n",
    "    H_0_coordinates[2],\n",
    "    H_0_values[0],\n",
    "    H_0_values[1],\n",
    "    H_0_values[2],\n",
    "    length=1e-5,\n",
    ")\n",
    "\n",
    "plt.show()"
   ]
  },
  {
   "cell_type": "code",
   "execution_count": null,
   "metadata": {},
   "outputs": [],
   "source": [
    "H_0_cpo = CPO(\n",
    "    mesh=mesh,\n",
    "    left_vector=H_0\n",
    ")\n",
    "H_0_times_ = H_0_cpo.to_mesh_matrix()"
   ]
  },
  {
   "cell_type": "code",
   "execution_count": null,
   "metadata": {},
   "outputs": [],
   "source": [
    "H_eff_cpo = CPO(\n",
    "    mesh=mesh,\n",
    "    left_vector=H_eff\n",
    ")\n",
    "H_eff_times_ = H_eff_cpo.to_mesh_matrix()\n",
    "del H_eff"
   ]
  },
  {
   "cell_type": "code",
   "execution_count": 14,
   "metadata": {},
   "outputs": [],
   "source": [
    "IntConvOp = matmul(M0_times_,int_G_)"
   ]
  },
  {
   "cell_type": "code",
   "execution_count": null,
   "metadata": {},
   "outputs": [],
   "source": [
    "LLG_operator = gamms * (H_0_times_ + H_eff_times_  - M_s * IntConvOp)\n",
    "\n",
    "del IntConvOp\n",
    "LLG_operator"
   ]
  },
  {
   "cell_type": "code",
   "execution_count": 16,
   "metadata": {},
   "outputs": [],
   "source": [
    "#omega_char = gamms * h_mx\n",
    "#null_LLG = LLG_operator + 1j * omega_char * np.identity(n=len(LLG_operator))\n",
    "#null_LLG#\n",
    "#\n",
    "#U, S, Vh = np.linalg.svd(null_LLG)\n",
    "\n",
    "#null_space = np.compress(S <= 5.2e13, Vh, axis=0)\n",
    "#null_space.T\n",
    "\n",
    "dm_0 = VectorField(mesh=mesh, coordinates=centers.T, values=0.1 * np.array([[1 / np.sqrt(2), 1 / np.sqrt(2), 0] for _ in centers.T]))\n",
    "\n",
    "dm_0_coordinates = dm_0.coorrdinates.T\n",
    "dm_0_values = dm_0.values.T\n",
    "_dm_0 = dm_0.vectorize()"
   ]
  },
  {
   "cell_type": "code",
   "execution_count": null,
   "metadata": {},
   "outputs": [],
   "source": [
    "%matplotlib inline\n",
    "%matplotlib widget \n",
    "\n",
    "from mpl_toolkits.mplot3d import Axes3D\n",
    "import matplotlib.pyplot as plt\n",
    "import numpy as np\n",
    "\n",
    "fig = plt.figure(figsize=(5,5), dpi=100)\n",
    "ax = fig.add_subplot(projection=\"3d\") \n",
    "\n",
    "ax.quiver(\n",
    "    dm_0_coordinates[0],\n",
    "    dm_0_coordinates[1],\n",
    "    dm_0_coordinates[2],\n",
    "    dm_0_values[0],\n",
    "    dm_0_values[1],\n",
    "    dm_0_values[2],\n",
    "    length=300,\n",
    ")\n",
    "\n",
    "plt.show()"
   ]
  },
  {
   "cell_type": "code",
   "execution_count": null,
   "metadata": {},
   "outputs": [],
   "source": [
    "from scipy.sparse.linalg import eigs as speigs\n",
    "\n",
    "eigs = speigs(np.array(LLG_operator), k=10, tol=1e-15)"
   ]
  },
  {
   "cell_type": "code",
   "execution_count": null,
   "metadata": {},
   "outputs": [],
   "source": [
    "eigs"
   ]
  },
  {
   "cell_type": "code",
   "execution_count": 25,
   "metadata": {},
   "outputs": [],
   "source": [
    "eigenvalues = eigs[0]#.eigenvalues\n",
    "eigenvectors = eigs[1].T#.eigenvectors.T\n",
    "eigenvalues = (1j * np.array(eigenvalues))\n",
    "#eigenvalues_idx = np.where(abs(eigenvalues.imag) < 10000000)[0]\n",
    "#eigenvalues = eigenvalues[eigenvalues_idx].real\n",
    "#eigenvalues_idx = np.where(abs(eigenvalues) > 1e9)[0]\n",
    "#eigenvalues = eigenvalues[eigenvalues_idx]\n",
    "#eigenvalues, eigenvalues_idx"
   ]
  },
  {
   "cell_type": "code",
   "execution_count": null,
   "metadata": {},
   "outputs": [],
   "source": [
    "eigenvalues[0]"
   ]
  },
  {
   "cell_type": "code",
   "execution_count": null,
   "metadata": {},
   "outputs": [],
   "source": [
    "dm = VectorField(\n",
    "    mesh=mesh,\n",
    "    coordinates=mesh.elements_centers['tet'],\n",
    ")\n",
    "n = 3\n",
    "_dm = eigenvectors[10] #+ eigenvectors[1] + eigenvectors[4] + eigenvectors[5] + eigenvectors[8] + eigenvectors[9]\n",
    "dm.devectorize(np.array(_dm).real)\n",
    "\n",
    "dm_values = dm.values.T\n",
    "dm_coordinates = dm.coorrdinates.T\n",
    "dm_values"
   ]
  },
  {
   "cell_type": "code",
   "execution_count": null,
   "metadata": {},
   "outputs": [],
   "source": [
    "%matplotlib inline\n",
    "%matplotlib widget \n",
    "\n",
    "from mpl_toolkits.mplot3d import Axes3D\n",
    "import matplotlib.pyplot as plt\n",
    "import numpy as np\n",
    "\n",
    "fig = plt.figure(figsize=(10,10), dpi=50)\n",
    "ax = fig.add_subplot(projection=\"3d\") \n",
    "\n",
    "ax.quiver(\n",
    "    dm_coordinates[0],\n",
    "    dm_coordinates[1],\n",
    "    dm_coordinates[2],\n",
    "    dm_values[0],\n",
    "    dm_values[1],\n",
    "    dm_values[2],\n",
    "    length=1000,\n",
    "    \n",
    ")\n",
    "\n",
    "plt.show()"
   ]
  },
  {
   "cell_type": "code",
   "execution_count": null,
   "metadata": {},
   "outputs": [],
   "source": [
    "eigenvalues[0]"
   ]
  },
  {
   "cell_type": "code",
   "execution_count": null,
   "metadata": {},
   "outputs": [],
   "source": [
    "5e5 * gamms"
   ]
  },
  {
   "cell_type": "code",
   "execution_count": null,
   "metadata": {},
   "outputs": [],
   "source": []
  }
 ],
 "metadata": {
  "kernelspec": {
   "display_name": "integsol-D_NRmgKK-py3.10",
   "language": "python",
   "name": "python3"
  },
  "language_info": {
   "codemirror_mode": {
    "name": "ipython",
    "version": 3
   },
   "file_extension": ".py",
   "mimetype": "text/x-python",
   "name": "python",
   "nbconvert_exporter": "python",
   "pygments_lexer": "ipython3",
   "version": "3.10.12"
  }
 },
 "nbformat": 4,
 "nbformat_minor": 2
}
